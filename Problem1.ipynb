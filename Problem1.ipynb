{
 "cells": [
  {
   "cell_type": "code",
   "execution_count": 1,
   "metadata": {
    "collapsed": false
   },
   "outputs": [],
   "source": [
    "-- load dataset\n",
    "require 'cunn'\n",
    "data = torch.load('dataset.t7b')\n",
    "data.data = data.data:double():cuda()\n",
    "data.label = data.label:byte():cuda()"
   ]
  },
  {
   "cell_type": "code",
   "execution_count": 2,
   "metadata": {
    "collapsed": true
   },
   "outputs": [],
   "source": [
    "-- visualization result\n",
    "require 'gnuplot'\n",
    "\n",
    "function plotDot(D, pred, title, fname)\n",
    "    local nc1 = pred:eq(1):sum()\n",
    "    local nc2 = pred:eq(2):sum()\n",
    "    local nc3 = pred:eq(3):sum()\n",
    "    local nc4 = pred:eq(4):sum()\n",
    "\n",
    "    local c1 = torch.Tensor(nc1,2):cuda()\n",
    "    local n1 = 1\n",
    "\n",
    "    local c2 = torch.Tensor(nc2,2):cuda()\n",
    "    local n2 = 1\n",
    "\n",
    "    local c3 = torch.Tensor(nc3,2):cuda()\n",
    "    local n3 = 1\n",
    "\n",
    "    local c4 = torch.Tensor(nc4,2):cuda()\n",
    "    local n4 = 1\n",
    "\n",
    "    for i = 1, pred:size(1) do\n",
    "        if pred[i] == 1 then\n",
    "            c1[n1] = D.data[i]\n",
    "            n1 = n1 + 1\n",
    "        end\n",
    "\n",
    "        if pred[i] == 2 then\n",
    "            c2[n2] = D.data[i]\n",
    "            n2 = n2 + 1\n",
    "        end\n",
    "\n",
    "        if pred[i] == 3 then\n",
    "            c3[n3] = D.data[i]\n",
    "            n3 = n3 + 1\n",
    "        end\n",
    "\n",
    "        if pred[i] == 4 then\n",
    "            c4[n4] = D.data[i]\n",
    "            n4 = n4 + 1\n",
    "        end\n",
    "    end\n",
    "    \n",
    "    local c1x1 = c1[ { {}, {1} } ]:reshape(nc1)\n",
    "    local c1x2 = c1[ { {}, {2} } ]:reshape(nc1)\n",
    "    local c2x1 = c2[ { {}, {1} } ]:reshape(nc2)\n",
    "    local c2x2 = c2[ { {}, {2} } ]:reshape(nc2)\n",
    "    local c3x1 = c3[ { {}, {1} } ]:reshape(nc3)\n",
    "    local c3x2 = c3[ { {}, {2} } ]:reshape(nc3)\n",
    "    local c4x1 = c4[ { {}, {1} } ]:reshape(nc4)\n",
    "    local c4x2 = c4[ { {}, {2} } ]:reshape(nc4)\n",
    "    \n",
    "    gnuplot.pngfigure(fname)\n",
    "    gnuplot.plot({'class 1', c1x1, c1x2, '+'},\n",
    "                 {'class 2', c2x1, c2x2, '+'},\n",
    "                 {'class 3', c3x1, c3x2, '+'},\n",
    "                 {'class 4', c4x1, c4x2, '+'})\n",
    "    gnuplot.plotflush()\n",
    "    gnuplot.grid(true)\n",
    "    gnuplot.title(title)\n",
    "end"
   ]
  },
  {
   "cell_type": "code",
   "execution_count": 3,
   "metadata": {
    "collapsed": false
   },
   "outputs": [
    {
     "data": {
      "text/plain": [
       "\n"
      ]
     },
     "execution_count": 3,
     "metadata": {},
     "output_type": "execute_result"
    }
   ],
   "source": [
    "plotDot(data, data.label, 'whole_data', 'p1whole.png')"
   ]
  },
  {
   "cell_type": "markdown",
   "metadata": {},
   "source": [
    "![whole](p1whole.png)"
   ]
  },
  {
   "cell_type": "code",
   "execution_count": 4,
   "metadata": {
    "collapsed": false
   },
   "outputs": [],
   "source": [
    "-- construct neural network\n",
    "require 'nn'\n",
    "\n",
    "nInput = 2\n",
    "nClasses = 4\n",
    "nHidden = 10\n",
    "\n",
    "net = nn.Sequential()\n",
    "net:add(nn.Linear(nInput, nHidden))      -- fully connected \n",
    "net:add(nn.ReLU(true))                   -- non-linearity\n",
    "net:add(nn.Linear(nHidden, nClasses))    -- fully connected\n",
    "net:add(nn.LogSoftMax())                 -- converts the output to a log-probability\n",
    "net = net:cuda()                         -- GPU\n",
    "\n",
    "-- define loss: Negative log-likelihood\n",
    "criterion = nn.ClassNLLCriterion()\n",
    "-- criterion.sizeAverage = false\n",
    "criterion = criterion:cuda()"
   ]
  },
  {
   "cell_type": "code",
   "execution_count": 5,
   "metadata": {
    "collapsed": true
   },
   "outputs": [],
   "source": [
    "-- split as train set and test set\n",
    "torch.manualSeed(0)\n",
    "Ind = torch.randperm(4000)\n",
    "\n",
    "trainInd = Ind[ { {   1, 3600} } ]\n",
    "testInd  = Ind[ { {3601, 4000} } ]\n",
    "\n",
    "train = { data  = data.data:index(1, trainInd:long()),\n",
    "          label = data.label:index(1, trainInd:long())}\n",
    "\n",
    "test  = { data  = data.data:index(1, testInd:long()),\n",
    "          label = data.label:index(1, testInd:long())}"
   ]
  },
  {
   "cell_type": "code",
   "execution_count": 6,
   "metadata": {
    "collapsed": false
   },
   "outputs": [
    {
     "data": {
      "text/plain": [
       "\n"
      ]
     },
     "execution_count": 6,
     "metadata": {},
     "output_type": "execute_result"
    }
   ],
   "source": [
    "plotDot(train, train.label, 'train', 'p1train.png')"
   ]
  },
  {
   "cell_type": "markdown",
   "metadata": {},
   "source": [
    "![train](p1train.png)"
   ]
  },
  {
   "cell_type": "code",
   "execution_count": 7,
   "metadata": {
    "collapsed": false
   },
   "outputs": [],
   "source": [
    "-- batch gd\n",
    "\n",
    "batchSize = 200\n",
    "batchInd = torch.zeros(batchSize)\n",
    "\n",
    "maxEpoch = 1000\n",
    "\n",
    "tra_loss = torch.zeros(maxEpoch)\n",
    "tes_loss = torch.zeros(maxEpoch)\n",
    "eta = 0.1\n",
    "n = 1\n",
    "\n",
    "\n",
    "for k = 1, maxEpoch do\n",
    "    \n",
    "    for i = 1, batchSize do\n",
    "        batchInd[i] = torch.random(1, 3600)\n",
    "    end\n",
    "    \n",
    "    -- define batch inputs\n",
    "    Batch = { data  = train.data:index(1, batchInd:long()),\n",
    "              label = train.label:index(1, batchInd:long())}\n",
    "    \n",
    "    -- train by batch\n",
    "    net:zeroGradParameters()\n",
    "    local outputs = net:forward(Batch.data)\n",
    "    local loss = criterion:forward(outputs, Batch.label)\n",
    "    local dloss_doutputs = criterion:backward(outputs, Batch.label)\n",
    "    net:backward(Batch.data, dloss_doutputs)\n",
    "    tra_loss[n] = loss\n",
    "    net:updateParameters(eta)\n",
    "\n",
    "    -- test current network\n",
    "    pred = net:forward(test.data)\n",
    "    test_loss = criterion:forward(pred, test.label)\n",
    "    tes_loss[n] = test_loss\n",
    "\n",
    "    n = n + 1\n",
    "end"
   ]
  },
  {
   "cell_type": "code",
   "execution_count": 8,
   "metadata": {
    "collapsed": false
   },
   "outputs": [],
   "source": [
    "gnuplot.pngfigure('p1loss.png')\n",
    "gnuplot.plot({'train loss', tra_loss, '-'},\n",
    "             {'test loss', tes_loss, '-'})\n",
    "gnuplot.plotflush()\n",
    "gnuplot.grid(true)\n",
    "gnuplot.title('train.loss')"
   ]
  },
  {
   "cell_type": "markdown",
   "metadata": {},
   "source": [
    "![train_test_loss](p1loss.png)"
   ]
  },
  {
   "cell_type": "code",
   "execution_count": 9,
   "metadata": {
    "collapsed": false,
    "scrolled": true
   },
   "outputs": [
    {
     "data": {
      "text/plain": [
       "372\t\n"
      ]
     },
     "execution_count": 9,
     "metadata": {},
     "output_type": "execute_result"
    }
   ],
   "source": [
    "-- test\n",
    "correct = 0\n",
    "pred = torch.zeros(400)\n",
    "for i=1, 400 do\n",
    "    local groundtruth = test.label[i]\n",
    "    local prediction = net:forward(test.data[i])\n",
    "    local confidences, indices = torch.sort(prediction, true)  -- true means sort in descending order\n",
    "    pred[i] = indices[1]\n",
    "    if groundtruth == indices[1] then\n",
    "        correct = correct + 1\n",
    "    end\n",
    "end\n",
    "print(correct)"
   ]
  },
  {
   "cell_type": "code",
   "execution_count": 10,
   "metadata": {
    "collapsed": false
   },
   "outputs": [
    {
     "data": {
      "text/plain": [
       "\n"
      ]
     },
     "execution_count": 10,
     "metadata": {},
     "output_type": "execute_result"
    }
   ],
   "source": [
    "plotDot(test, test.label, 'test', 'p1test.png')"
   ]
  },
  {
   "cell_type": "markdown",
   "metadata": {},
   "source": [
    "![p1test](p1test.png)"
   ]
  },
  {
   "cell_type": "code",
   "execution_count": 11,
   "metadata": {
    "collapsed": false
   },
   "outputs": [
    {
     "data": {
      "text/plain": [
       "\n"
      ]
     },
     "execution_count": 11,
     "metadata": {},
     "output_type": "execute_result"
    }
   ],
   "source": [
    "plotDot(test, pred, 'prediction', 'p1pred.png')"
   ]
  },
  {
   "cell_type": "markdown",
   "metadata": {},
   "source": [
    "![pred](p1pred.png)"
   ]
  },
  {
   "cell_type": "code",
   "execution_count": null,
   "metadata": {
    "collapsed": true
   },
   "outputs": [],
   "source": []
  }
 ],
 "metadata": {
  "kernelspec": {
   "display_name": "iTorch",
   "language": "lua",
   "name": "itorch"
  },
  "language_info": {
   "name": "lua",
   "version": "5.1"
  }
 },
 "nbformat": 4,
 "nbformat_minor": 2
}
