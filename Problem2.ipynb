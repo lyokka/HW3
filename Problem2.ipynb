{
 "cells": [
  {
   "cell_type": "code",
   "execution_count": 1,
   "metadata": {
    "collapsed": false
   },
   "outputs": [],
   "source": [
    "-- DATA\n",
    "require 'cunn'\n",
    "X = torch.zeros(5000, 2)\n",
    "Y = torch.zeros(5000)\n",
    "\n",
    "for i = 1, 5000 do\n",
    "    X[i] = (torch.rand(2,1) - 0.5 ) * 20\n",
    "    Y[i] = X[i][1]^2 + X[i][1]*X[i][2]+X[i][2]^2\n",
    "end\n",
    "\n",
    "X = X:float():cuda()\n",
    "Y = Y:float():cuda()"
   ]
  },
  {
   "cell_type": "code",
   "execution_count": 2,
   "metadata": {
    "collapsed": false
   },
   "outputs": [],
   "source": [
    "-- split as train set and test set\n",
    "torch.manualSeed(0)\n",
    "Ind = torch.randperm(5000)\n",
    "\n",
    "trainInd = Ind[ { {   1, 4500} } ]\n",
    "testInd  = Ind[ { {4501, 5000} } ]\n",
    "\n",
    "train = { data  = X:index(1, trainInd:long()),\n",
    "          label = Y:index(1, trainInd:long())}\n",
    "\n",
    "tra_x1 = train.data[{ {},{1} }]:clone():resize(4500)\n",
    "tra_x2 = train.data[{ {},{2} }]:clone():resize(4500)\n",
    "tra_y = train.label:clone():resize(4500)\n",
    "\n",
    "test  = { data  = X:index(1, testInd:long()),\n",
    "          label = Y:index(1, testInd:long())}\n",
    "\n",
    "tes_x1 = test.data[{ {},{1} }]:clone():resize(500)\n",
    "tes_x2 = test.data[{ {},{2} }]:clone():resize(500)\n",
    "tes_y = test.label:clone():resize(500)"
   ]
  },
  {
   "cell_type": "code",
   "execution_count": 3,
   "metadata": {
    "collapsed": false
   },
   "outputs": [],
   "source": [
    "-- construct neural network\n",
    "require 'nn'\n",
    "\n",
    "nInput = 2\n",
    "nOutput = 1\n",
    "nHidden = 10\n",
    "nHid2 = 5\n",
    "nHid3 = 5\n",
    "\n",
    "net = nn.Sequential()\n",
    "net:add(nn.Linear(nInput, nHidden))      -- fully connected \n",
    "net:add(nn.ReLU())                   -- non-linearity\n",
    "net:add(nn.Linear(nHidden, nHid2))    -- fully connected\n",
    "net:add(nn.ReLU())                   -- non-linearity\n",
    "-- net:add(nn.Linear(nHid2, nHid3))    -- fully connected\n",
    "-- net:add(nn.ReLU())                   -- non-linearity\n",
    "net:add(nn.Linear(nHid2, nOutput))    -- fully connected\n",
    "net = net:cuda()                         -- GPU\n",
    "\n",
    "-- define loss: MSE\n",
    "criterion = nn.MSECriterion()\n",
    "-- criterion.sizeAverage = false\n",
    "criterion = criterion:cuda()"
   ]
  },
  {
   "cell_type": "code",
   "execution_count": 4,
   "metadata": {
    "collapsed": true
   },
   "outputs": [],
   "source": [
    "params, gradParams = net:getParameters()"
   ]
  },
  {
   "cell_type": "code",
   "execution_count": 5,
   "metadata": {
    "collapsed": false
   },
   "outputs": [],
   "source": [
    "require 'optim'\n",
    "\n",
    "-- log test loss and train loss\n",
    "logger = optim.Logger('acc.log')\n",
    "logger:setNames{'Trainn acc .', 'Test acc .'}\n",
    "\n",
    "-- batch gd\n",
    "local optimState = {learningRate = 0.0001}\n",
    "\n",
    "batchSize = 4500\n",
    "maxEpoch = 2000\n",
    "nBatch = maxEpoch * 4500/batchSize\n",
    "\n",
    "n = 1\n",
    "for k = 1, maxEpoch do\n",
    "    for i = 1, 4500, batchSize do\n",
    "        -- define batch inputs\n",
    "        Batch = {  data = train.data[{ {i, i+batchSize-1} }],\n",
    "                  label = train.label[{ {i, i+batchSize-1} }] }\n",
    "        \n",
    "        -- define feval function for optim.sgd\n",
    "        function feval(params)\n",
    "            gradParams:zero()\n",
    "        \n",
    "            local outputs = net:forward(Batch.data)\n",
    "            local loss = criterion:forward(outputs, Batch.label)\n",
    "            local dloss_doutputs = criterion:backward(outputs, Batch.label)\n",
    "            net:backward(Batch.data, dloss_doutputs)\n",
    "            \n",
    "            return loss, gradParams\n",
    "        end\n",
    "        \n",
    "        -- train use batch sgd\n",
    "        newParams, train_loss = optim.sgd(feval, params, optimState)\n",
    "        \n",
    "        -- check convergence\n",
    "        if newParams:ne(newParams):sum() > 0 then\n",
    "            print(n, 'not converge')\n",
    "        end\n",
    "        \n",
    "        -- test current network\n",
    "        pred = net:forward(test.data)\n",
    "        test_loss = criterion:forward(pred, test.label)\n",
    "        \n",
    "        -- store loss\n",
    "        logger:add{train_loss[1], test_loss}\n",
    "        \n",
    "        n = n + 1\n",
    "    end\n",
    "end"
   ]
  },
  {
   "cell_type": "code",
   "execution_count": 6,
   "metadata": {
    "collapsed": false
   },
   "outputs": [],
   "source": [
    "logger:style{'-', '-'}\n",
    "logger:plot()"
   ]
  },
  {
   "cell_type": "code",
   "execution_count": 7,
   "metadata": {
    "collapsed": false,
    "scrolled": false
   },
   "outputs": [
    {
     "data": {
      "text/plain": [
       "\n"
      ]
     },
     "execution_count": 7,
     "metadata": {},
     "output_type": "execute_result"
    }
   ],
   "source": [
    "-- plot train\n",
    "gnuplot.scatter3( tra_x1, tra_x2, tra_y)"
   ]
  },
  {
   "cell_type": "code",
   "execution_count": 10,
   "metadata": {
    "collapsed": false
   },
   "outputs": [],
   "source": [
    "-- Data Visualization\n",
    "x = torch.linspace(-20,20, 100)\n",
    "y = torch.zeros(100, 100)\n",
    "for i = 1, 100 do\n",
    "    for j = 1, 100 do\n",
    "        y[i][j] = x[i]^2 + x[i]*x[j]+x[j]^2\n",
    "    end\n",
    "end\n",
    "\n",
    "gnuplot.splot(y)"
   ]
  },
  {
   "cell_type": "code",
   "execution_count": 9,
   "metadata": {
    "collapsed": false
   },
   "outputs": [
    {
     "data": {
      "text/plain": [
       "\n"
      ]
     },
     "execution_count": 9,
     "metadata": {},
     "output_type": "execute_result"
    }
   ],
   "source": [
    "-- plot test and pred\n",
    "gnuplot.scatter3( {tes_x1, tes_x2, pred[1]:resize(500)}, {tes_x1, tes_x2, tes_y} )"
   ]
  },
  {
   "cell_type": "code",
   "execution_count": 10,
   "metadata": {
    "collapsed": false,
    "scrolled": true
   },
   "outputs": [
    {
     "data": {
      "text/plain": [
       "\n"
      ]
     },
     "execution_count": 10,
     "metadata": {},
     "output_type": "execute_result"
    }
   ],
   "source": [
    "gnuplot.scatter3( {tes_x1, tes_x2, pred[1]:resize(500)})"
   ]
  }
 ],
 "metadata": {
  "kernelspec": {
   "display_name": "iTorch",
   "language": "lua",
   "name": "itorch"
  },
  "language_info": {
   "name": "lua",
   "version": "5.1"
  }
 },
 "nbformat": 4,
 "nbformat_minor": 2
}
